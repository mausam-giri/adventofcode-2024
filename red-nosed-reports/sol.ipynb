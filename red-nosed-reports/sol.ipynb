{
 "cells": [
  {
   "cell_type": "code",
   "execution_count": 10,
   "metadata": {},
   "outputs": [],
   "source": [
    "reports = []\n",
    "file = open(\"input.txt\", \"r\")\n",
    "\n",
    "for line in file:\n",
    "    reports.append(list(map(int, line.split())))"
   ]
  },
  {
   "cell_type": "code",
   "execution_count": 19,
   "metadata": {},
   "outputs": [
    {
     "data": {
      "text/plain": [
       "(1000, [3, 6, 7, 9, 11, 8], [21, 24, 25, 26, 29, 30, 32, 32])"
      ]
     },
     "execution_count": 19,
     "metadata": {},
     "output_type": "execute_result"
    }
   ],
   "source": [
    "len(reports), reports[0], reports[1]"
   ]
  },
  {
   "cell_type": "code",
   "execution_count": 17,
   "metadata": {},
   "outputs": [],
   "source": [
    "safe_count = 0\n",
    "for report in reports:\n",
    "   \n",
    "    safe = True\n",
    "    first = report[0]\n",
    "    second = report[1]\n",
    "\n",
    "    increasing = first < second\n",
    "\n",
    "    for i in range(1, len(report)):\n",
    "        diff = report[i] - report[i-1]\n",
    "\n",
    "        if (increasing and diff < 0) or (not increasing and diff > 0):\n",
    "            safe = False\n",
    "            break\n",
    "\n",
    "        if abs(diff) < 1  or abs(diff) > 3:\n",
    "            safe = False\n",
    "            break\n",
    "\n",
    "    if safe:\n",
    "        safe_count += 1"
   ]
  },
  {
   "cell_type": "code",
   "execution_count": 16,
   "metadata": {},
   "outputs": [
    {
     "data": {
      "text/plain": [
       "686"
      ]
     },
     "execution_count": 16,
     "metadata": {},
     "output_type": "execute_result"
    }
   ],
   "source": [
    "safe_count"
   ]
  },
  {
   "cell_type": "code",
   "execution_count": 9,
   "metadata": {},
   "outputs": [],
   "source": [
    "def find_safe(report):\n",
    "    \n",
    "    if len(report) < 1:\n",
    "        return True\n",
    "\n",
    "    first = report[0]\n",
    "    second = report[1]\n",
    "    increasing = first < second\n",
    "\n",
    "    for i in range(1, len(report)):\n",
    "        diff = report[i] - report[i-1]\n",
    "\n",
    "        if abs(diff) < 1 or abs(diff) > 3:\n",
    "            return False\n",
    "\n",
    "        if (increasing and diff < 0) or (not increasing and diff > 0):\n",
    "            return False\n",
    "\n",
    "    return True"
   ]
  },
  {
   "cell_type": "code",
   "execution_count": 10,
   "metadata": {},
   "outputs": [
    {
     "name": "stdout",
     "output_type": "stream",
     "text": [
      "708\n"
     ]
    }
   ],
   "source": [
    "import sys\n",
    "\n",
    "input_file = open(\"input2.txt\", \"r\")\n",
    "reports = [list(map(int, line.split())) for line in input_file]\n",
    "\n",
    "safe_count = 0\n",
    "\n",
    "for report in reports:\n",
    "    safe = True\n",
    "    unsafe_count = 0\n",
    "    \n",
    "    safe, unsafe_index = find_safe(report)\n",
    "    \n",
    "    if not safe:\n",
    "        unsafe_count += 1\n",
    "        safe_level, _ = find_safe(report[0:unsafe_index] + report[unsafe_index+1:])\n",
    "        \n",
    "        if not safe_level: unsafe_count += 1\n",
    "\n",
    "    if safe or unsafe_count == 1:\n",
    "        safe_count += 1\n",
    "\n",
    "print(safe_count)"
   ]
  },
  {
   "cell_type": "code",
   "execution_count": 12,
   "metadata": {},
   "outputs": [
    {
     "data": {
      "text/plain": [
       "[21, 24, 25, 29, 30, 32, 32]"
      ]
     },
     "execution_count": 12,
     "metadata": {},
     "output_type": "execute_result"
    }
   ],
   "source": [
    "k = [21, 24, 25, 26, 29, 30, 32, 32]\n",
    "l = k[:3] + k[4:]\n",
    "l"
   ]
  }
 ],
 "metadata": {
  "kernelspec": {
   "display_name": "tenv",
   "language": "python",
   "name": "python3"
  },
  "language_info": {
   "codemirror_mode": {
    "name": "ipython",
    "version": 3
   },
   "file_extension": ".py",
   "mimetype": "text/x-python",
   "name": "python",
   "nbconvert_exporter": "python",
   "pygments_lexer": "ipython3",
   "version": "3.11.2"
  }
 },
 "nbformat": 4,
 "nbformat_minor": 2
}
